{
 "cells": [
  {
   "cell_type": "code",
   "execution_count": null,
   "metadata": {},
   "outputs": [],
   "source": []
  },
  {
   "cell_type": "markdown",
   "metadata": {},
   "source": [
    "# 2. Entendimiento y Preparacion de los datos\n"
   ]
  },
  {
   "cell_type": "markdown",
   "metadata": {},
   "source": [
    "## 2.0 Carga de Datos y Librerias\n",
    "\n",
    "En este momento vamos a cargar los datos planos del archivo fake_news_spanish.csv para utilizarlo así como importar las librerias necesarias para el resto del notebook."
   ]
  },
  {
   "cell_type": "code",
   "execution_count": 75,
   "metadata": {},
   "outputs": [
    {
     "name": "stderr",
     "output_type": "stream",
     "text": [
      "[nltk_data] Downloading package punkt_tab to\n",
      "[nltk_data]     C:\\Users\\caran\\AppData\\Roaming\\nltk_data...\n",
      "[nltk_data]   Package punkt_tab is already up-to-date!\n",
      "[nltk_data] Downloading package stopwords to\n",
      "[nltk_data]     C:\\Users\\caran\\AppData\\Roaming\\nltk_data...\n",
      "[nltk_data]   Package stopwords is already up-to-date!\n",
      "[nltk_data] Downloading package wordnet to\n",
      "[nltk_data]     C:\\Users\\caran\\AppData\\Roaming\\nltk_data...\n",
      "[nltk_data]   Package wordnet is already up-to-date!\n"
     ]
    },
    {
     "data": {
      "text/html": [
       "<div>\n",
       "<style scoped>\n",
       "    .dataframe tbody tr th:only-of-type {\n",
       "        vertical-align: middle;\n",
       "    }\n",
       "\n",
       "    .dataframe tbody tr th {\n",
       "        vertical-align: top;\n",
       "    }\n",
       "\n",
       "    .dataframe thead th {\n",
       "        text-align: right;\n",
       "    }\n",
       "</style>\n",
       "<table border=\"1\" class=\"dataframe\">\n",
       "  <thead>\n",
       "    <tr style=\"text-align: right;\">\n",
       "      <th></th>\n",
       "      <th>ID</th>\n",
       "      <th>Label</th>\n",
       "      <th>Titulo</th>\n",
       "      <th>Descripcion</th>\n",
       "      <th>Fecha</th>\n",
       "    </tr>\n",
       "  </thead>\n",
       "  <tbody>\n",
       "    <tr>\n",
       "      <th>0</th>\n",
       "      <td>ID</td>\n",
       "      <td>1</td>\n",
       "      <td>'The Guardian' va con Sánchez: 'Europa necesit...</td>\n",
       "      <td>El diario británico publicó este pasado jueves...</td>\n",
       "      <td>02/06/2023</td>\n",
       "    </tr>\n",
       "    <tr>\n",
       "      <th>1</th>\n",
       "      <td>ID</td>\n",
       "      <td>0</td>\n",
       "      <td>REVELAN QUE EL GOBIERNO NEGOCIO LA LIBERACIÓN ...</td>\n",
       "      <td>REVELAN QUE EL GOBIERNO NEGOCIO LA LIBERACIÓN ...</td>\n",
       "      <td>01/10/2023</td>\n",
       "    </tr>\n",
       "    <tr>\n",
       "      <th>2</th>\n",
       "      <td>ID</td>\n",
       "      <td>1</td>\n",
       "      <td>El 'Ahora o nunca' de Joan Fuster sobre el est...</td>\n",
       "      <td>El valencianismo convoca en Castelló su fiesta...</td>\n",
       "      <td>25/04/2022</td>\n",
       "    </tr>\n",
       "    <tr>\n",
       "      <th>3</th>\n",
       "      <td>ID</td>\n",
       "      <td>1</td>\n",
       "      <td>Iglesias alienta a Yolanda Díaz, ERC y EH Bild...</td>\n",
       "      <td>En política, igual que hay que negociar con lo...</td>\n",
       "      <td>03/01/2022</td>\n",
       "    </tr>\n",
       "    <tr>\n",
       "      <th>4</th>\n",
       "      <td>ID</td>\n",
       "      <td>0</td>\n",
       "      <td>Puigdemont: 'No sería ninguna tragedia una rep...</td>\n",
       "      <td>En una entrevista en El Punt Avui, el líder de...</td>\n",
       "      <td>09/03/2018</td>\n",
       "    </tr>\n",
       "  </tbody>\n",
       "</table>\n",
       "</div>"
      ],
      "text/plain": [
       "   ID Label                                             Titulo  \\\n",
       "0  ID     1  'The Guardian' va con Sánchez: 'Europa necesit...   \n",
       "1  ID     0  REVELAN QUE EL GOBIERNO NEGOCIO LA LIBERACIÓN ...   \n",
       "2  ID     1  El 'Ahora o nunca' de Joan Fuster sobre el est...   \n",
       "3  ID     1  Iglesias alienta a Yolanda Díaz, ERC y EH Bild...   \n",
       "4  ID     0  Puigdemont: 'No sería ninguna tragedia una rep...   \n",
       "\n",
       "                                         Descripcion       Fecha  \n",
       "0  El diario británico publicó este pasado jueves...  02/06/2023  \n",
       "1  REVELAN QUE EL GOBIERNO NEGOCIO LA LIBERACIÓN ...  01/10/2023  \n",
       "2  El valencianismo convoca en Castelló su fiesta...  25/04/2022  \n",
       "3  En política, igual que hay que negociar con lo...  03/01/2022  \n",
       "4  En una entrevista en El Punt Avui, el líder de...  09/03/2018  "
      ]
     },
     "execution_count": 75,
     "metadata": {},
     "output_type": "execute_result"
    }
   ],
   "source": [
    "import numpy as np\n",
    "import pandas as pd\n",
    "\n",
    "import matplotlib.pyplot as plt\n",
    "%matplotlib inline\n",
    "\n",
    "import seaborn as sns\n",
    "import scipy.stats as stats\n",
    "import re, string\n",
    "import scipy.sparse as sp\n",
    "\n",
    "from sklearn.neighbors import KNeighborsClassifier\n",
    "from sklearn.feature_extraction.text import TfidfVectorizer\n",
    "from sklearn.model_selection import train_test_split\n",
    "from sklearn.model_selection import train_test_split\n",
    "from sklearn.ensemble import RandomForestClassifier\n",
    "from sklearn.metrics import classification_report, confusion_matrix\n",
    "\n",
    "import nltk\n",
    "from nltk import word_tokenize, sent_tokenize\n",
    "from nltk.corpus import stopwords\n",
    "from nltk.stem import WordNetLemmatizer\n",
    "nltk.download('punkt_tab')\n",
    "nltk.download('stopwords')\n",
    "nltk.download('wordnet')\n",
    "\n",
    "from collections import Counter\n",
    "\n",
    "pd.set_option(\"display.max_columns\", None)\n",
    "pd.set_option(\"display.max_rows\", 50)\n",
    "\n",
    "db_location = 'fake_news_spanish.csv'\n",
    "\n",
    "news_df=pd.read_csv(db_location, sep=';', encoding = \"UTF-8\") \n",
    "\n",
    "news_df = news_df.astype(str)\n",
    "\n",
    "news_df.head()"
   ]
  },
  {
   "cell_type": "markdown",
   "metadata": {},
   "source": [
    "## 2.1 Entendimiento de datos\n",
    "\n",
    "// \t\n",
    "Se describe de manera detallada el proceso de perfilamiento  y análisis de calidad de datos incluyendo gráficas o tablas, estadísticas descriptivas, acompañadas de una explicación. Además, se tiene la explicación de qué variables son categóricas y numéricas y valores atipicos en la distribución de los datos. Adicionalemente, el grupo justifica las posibles decisiones de transformación basadas en el perfilamiento de los datos\n",
    "//\n",
    "\n",
    "\n",
    "Para entender los datos procedemos a ver su estructura:\n"
   ]
  },
  {
   "cell_type": "code",
   "execution_count": 76,
   "metadata": {},
   "outputs": [
    {
     "name": "stdout",
     "output_type": "stream",
     "text": [
      "<class 'pandas.core.frame.DataFrame'>\n",
      "RangeIndex: 57063 entries, 0 to 57062\n",
      "Data columns (total 5 columns):\n",
      " #   Column       Non-Null Count  Dtype \n",
      "---  ------       --------------  ----- \n",
      " 0   ID           57063 non-null  object\n",
      " 1   Label        57063 non-null  object\n",
      " 2   Titulo       57063 non-null  object\n",
      " 3   Descripcion  57063 non-null  object\n",
      " 4   Fecha        57063 non-null  object\n",
      "dtypes: object(5)\n",
      "memory usage: 2.2+ MB\n"
     ]
    }
   ],
   "source": [
    "news_df.info()"
   ]
  },
  {
   "cell_type": "markdown",
   "metadata": {},
   "source": [
    "Como podemos ver tenemos 5 columnas y 57 mil filas. De estas las mas importantes son las de \"Label\", \"Titulo\" y \"Descripcion\". Pues de estas vamos a obtener todas las variables para nuestro modelo de clasificación. Algo importante es que como podemos observar en la tabla anterior, no tenemos valores nulos en nuestras columnas. Por lo que no debemos preocuparnos por la completitud de los datos de entrenamiento.\n",
    "\n",
    "### Estadísticas descriptivas\n",
    "\n",
    "Para entender las noticias vamos a realizar estadísticas descriptivas de los textos. \n",
    "\n",
    "Para las variables las variables \"Titulo\" y \"Descripcion\" vamos a:\n",
    "1. Dar su longitud total\n",
    "2. La palabra más frecuente\n",
    "3. La longitud de la palabra más grande y pequeña."
   ]
  },
  {
   "cell_type": "code",
   "execution_count": 77,
   "metadata": {},
   "outputs": [
    {
     "data": {
      "text/html": [
       "<div>\n",
       "<style scoped>\n",
       "    .dataframe tbody tr th:only-of-type {\n",
       "        vertical-align: middle;\n",
       "    }\n",
       "\n",
       "    .dataframe tbody tr th {\n",
       "        vertical-align: top;\n",
       "    }\n",
       "\n",
       "    .dataframe thead th {\n",
       "        text-align: right;\n",
       "    }\n",
       "</style>\n",
       "<table border=\"1\" class=\"dataframe\">\n",
       "  <thead>\n",
       "    <tr style=\"text-align: right;\">\n",
       "      <th></th>\n",
       "      <th>ID</th>\n",
       "      <th>Label</th>\n",
       "      <th>Titulo</th>\n",
       "      <th>Descripcion</th>\n",
       "      <th>Fecha</th>\n",
       "      <th>Longitud Titulo</th>\n",
       "      <th>Moda Titulo</th>\n",
       "      <th>Max Titulo</th>\n",
       "      <th>Min Titulo</th>\n",
       "      <th>Longitud Descripcion</th>\n",
       "      <th>Moda Descripcion</th>\n",
       "      <th>Max Descripcion</th>\n",
       "      <th>Min Descripcion</th>\n",
       "    </tr>\n",
       "  </thead>\n",
       "  <tbody>\n",
       "    <tr>\n",
       "      <th>0</th>\n",
       "      <td>ID</td>\n",
       "      <td>1</td>\n",
       "      <td>'The Guardian' va con Sánchez: 'Europa necesit...</td>\n",
       "      <td>El diario británico publicó este pasado jueves...</td>\n",
       "      <td>02/06/2023</td>\n",
       "      <td>77</td>\n",
       "      <td>the</td>\n",
       "      <td>9</td>\n",
       "      <td>2</td>\n",
       "      <td>218</td>\n",
       "      <td>el</td>\n",
       "      <td>13</td>\n",
       "      <td>1</td>\n",
       "    </tr>\n",
       "    <tr>\n",
       "      <th>1</th>\n",
       "      <td>ID</td>\n",
       "      <td>0</td>\n",
       "      <td>REVELAN QUE EL GOBIERNO NEGOCIO LA LIBERACIÓN ...</td>\n",
       "      <td>REVELAN QUE EL GOBIERNO NEGOCIO LA LIBERACIÓN ...</td>\n",
       "      <td>01/10/2023</td>\n",
       "      <td>104</td>\n",
       "      <td>el</td>\n",
       "      <td>10</td>\n",
       "      <td>1</td>\n",
       "      <td>3260</td>\n",
       "      <td>que</td>\n",
       "      <td>18</td>\n",
       "      <td>1</td>\n",
       "    </tr>\n",
       "    <tr>\n",
       "      <th>2</th>\n",
       "      <td>ID</td>\n",
       "      <td>1</td>\n",
       "      <td>El 'Ahora o nunca' de Joan Fuster sobre el est...</td>\n",
       "      <td>El valencianismo convoca en Castelló su fiesta...</td>\n",
       "      <td>25/04/2022</td>\n",
       "      <td>77</td>\n",
       "      <td>el</td>\n",
       "      <td>10</td>\n",
       "      <td>1</td>\n",
       "      <td>169</td>\n",
       "      <td>de</td>\n",
       "      <td>13</td>\n",
       "      <td>2</td>\n",
       "    </tr>\n",
       "    <tr>\n",
       "      <th>3</th>\n",
       "      <td>ID</td>\n",
       "      <td>1</td>\n",
       "      <td>Iglesias alienta a Yolanda Díaz, ERC y EH Bild...</td>\n",
       "      <td>En política, igual que hay que negociar con lo...</td>\n",
       "      <td>03/01/2022</td>\n",
       "      <td>110</td>\n",
       "      <td>a</td>\n",
       "      <td>12</td>\n",
       "      <td>1</td>\n",
       "      <td>133</td>\n",
       "      <td>que</td>\n",
       "      <td>15</td>\n",
       "      <td>2</td>\n",
       "    </tr>\n",
       "    <tr>\n",
       "      <th>4</th>\n",
       "      <td>ID</td>\n",
       "      <td>0</td>\n",
       "      <td>Puigdemont: 'No sería ninguna tragedia una rep...</td>\n",
       "      <td>En una entrevista en El Punt Avui, el líder de...</td>\n",
       "      <td>09/03/2018</td>\n",
       "      <td>72</td>\n",
       "      <td>puigdemont</td>\n",
       "      <td>11</td>\n",
       "      <td>2</td>\n",
       "      <td>242</td>\n",
       "      <td>a</td>\n",
       "      <td>14</td>\n",
       "      <td>1</td>\n",
       "    </tr>\n",
       "  </tbody>\n",
       "</table>\n",
       "</div>"
      ],
      "text/plain": [
       "   ID Label                                             Titulo  \\\n",
       "0  ID     1  'The Guardian' va con Sánchez: 'Europa necesit...   \n",
       "1  ID     0  REVELAN QUE EL GOBIERNO NEGOCIO LA LIBERACIÓN ...   \n",
       "2  ID     1  El 'Ahora o nunca' de Joan Fuster sobre el est...   \n",
       "3  ID     1  Iglesias alienta a Yolanda Díaz, ERC y EH Bild...   \n",
       "4  ID     0  Puigdemont: 'No sería ninguna tragedia una rep...   \n",
       "\n",
       "                                         Descripcion       Fecha  \\\n",
       "0  El diario británico publicó este pasado jueves...  02/06/2023   \n",
       "1  REVELAN QUE EL GOBIERNO NEGOCIO LA LIBERACIÓN ...  01/10/2023   \n",
       "2  El valencianismo convoca en Castelló su fiesta...  25/04/2022   \n",
       "3  En política, igual que hay que negociar con lo...  03/01/2022   \n",
       "4  En una entrevista en El Punt Avui, el líder de...  09/03/2018   \n",
       "\n",
       "   Longitud Titulo Moda Titulo  Max Titulo  Min Titulo  Longitud Descripcion  \\\n",
       "0               77         the           9           2                   218   \n",
       "1              104          el          10           1                  3260   \n",
       "2               77          el          10           1                   169   \n",
       "3              110           a          12           1                   133   \n",
       "4               72  puigdemont          11           2                   242   \n",
       "\n",
       "  Moda Descripcion  Max Descripcion  Min Descripcion  \n",
       "0               el               13                1  \n",
       "1              que               18                1  \n",
       "2               de               13                2  \n",
       "3              que               15                2  \n",
       "4                a               14                1  "
      ]
     },
     "execution_count": 77,
     "metadata": {},
     "output_type": "execute_result"
    }
   ],
   "source": [
    "stats_textos = news_df.copy()\n",
    "\n",
    "stats_textos['Longitud Titulo'] = [len(str(x)) for x in stats_textos['Titulo']]\n",
    "stats_textos['Moda Titulo'] = [Counter([word.lower().strip(string.punctuation) for word in (str(i).split(' '))]).most_common()[0][0] for i in stats_textos['Titulo']]\n",
    "stats_textos['Max Titulo'] = [[max([len(x) for x in str(i).split(' ')])][0] for i in stats_textos['Titulo']]\n",
    "stats_textos['Min Titulo'] = [[min([len(x) for x in str(i).split(' ')])][0] for i in stats_textos['Titulo']]\n",
    "\n",
    "stats_textos['Longitud Descripcion'] = [len(str(x)) for x in stats_textos['Descripcion']]\n",
    "stats_textos['Moda Descripcion'] = [Counter([word.lower().strip(string.punctuation) for word in (str(i).split(' '))]).most_common()[0][0] for i in stats_textos['Descripcion']]\n",
    "stats_textos['Max Descripcion'] = [[max([len(x) for x in str(i).split(' ')])][0] for i in stats_textos['Descripcion']]\n",
    "stats_textos['Min Descripcion'] = [[min([len(x) for x in str(i).split(' ')])][0] for i in stats_textos['Descripcion']]\n",
    "\n",
    "\n",
    "stats_textos.head()"
   ]
  },
  {
   "cell_type": "markdown",
   "metadata": {},
   "source": [
    "Algo de lo que nos podemos percatar a simple vista de los datos expuestos en la tabla anterior, es que la moda de tanto \"Titulo\" como \"Descripcion\" tiende a ser palabras vacías que no aportan a nuestro análisis. Por lo que deberemos eliminarlas en nuestra preparación de datos.\n",
    "\n",
    "### Reporte con ydata_profiling\n",
    "\n",
    "Para obtener un reporte mas detallado de del dataset vamos a generar un reporte con ydata_profiling:"
   ]
  },
  {
   "cell_type": "code",
   "execution_count": 78,
   "metadata": {},
   "outputs": [],
   "source": [
    "# Si quiere ver el reporte de profiling, descomente las siguientes lineas\n",
    "\n",
    "# from ydata_profiling import ProfileReport\n",
    "\n",
    "# profile = ProfileReport(news_df, title=\"Profiling Report\", minimal=True)\n",
    "# profile.to_file(\"news_profile_report.html\")"
   ]
  },
  {
   "cell_type": "markdown",
   "metadata": {},
   "source": [
    "El resultado se puede observar en el archivo \"news_profile_report.html\".\n",
    "\n",
    "En este archivo podemos resaltar varios aspectos de la información:\n",
    "1. Se genera una alerta para la columna \"ID\", pues esta solo tiene el valor \"ID\" en todas sus filas. Por lo que es pertinente ignorarla y no usarla para nuestro entrenamiento.\n",
    "2. Es alto el porcentaje total que ocupan en nuestros textos palabras vacías como: de, la, el, que, en, etc."
   ]
  },
  {
   "cell_type": "code",
   "execution_count": 79,
   "metadata": {},
   "outputs": [
    {
     "data": {
      "image/png": "[encoded data removed]",
      "text/plain": [
       "<Figure size 1000x500 with 1 Axes>"
      ]
     },
     "metadata": {},
     "output_type": "display_data"
    }
   ],
   "source": [
    "values_titulo = [\"de\", \"la\", \"el\", \"a\", \"en\", \"y\", \"que\", \"del\", \"los\", \"las\", \"Otros\"]\n",
    "frequencies_titulo = [6.8, 5.1, 4.5, 3.0, 2.7, 2.3, 1.9, 1.8, 1.6, 1.2, 69.2]\n",
    "\n",
    "plt.figure(figsize=(10, 5))\n",
    "bars = plt.bar(values_titulo, frequencies_titulo, color=[\"blue\" if v != \"Otros\" else \"gray\" for v in values_titulo])\n",
    "\n",
    "plt.xlabel(\"Palabras\")\n",
    "plt.ylabel(\"Frecuencia (%)\")\n",
    "plt.title(\"Frecuencia de palabras en Titulo\")\n",
    "plt.ylim(0, 75)\n",
    "\n",
    "plt.bar_label(bars, labels=[f\"{freq}%\" for freq in frequencies_titulo], padding=3)\n",
    "    \n",
    "plt.show()"
   ]
  },
  {
   "cell_type": "code",
   "execution_count": 80,
   "metadata": {},
   "outputs": [
    {
     "data": {
      "image/png": "[encoded data removed]",
      "text/plain": [
       "<Figure size 1000x500 with 1 Axes>"
      ]
     },
     "metadata": {},
     "output_type": "display_data"
    }
   ],
   "source": [
    "values_descripcion = [\"de\", \"la\", \"el\", \"que\", \"en\", \"y\", \"a\", \"del\", \"los\", \"las\", \"Otros\"]\n",
    "frequencies_descripcion = [7.1, 5.1, 4.0, 3.2, 2.8, 2.4, 2.2, 1.9, 1.7, 1.1, 68.5]\n",
    "\n",
    "plt.figure(figsize=(10, 5))\n",
    "bars = plt.bar(values_descripcion, frequencies_descripcion, color=[\"blue\" if v != \"Otros\" else \"gray\" for v in values_descripcion])\n",
    "\n",
    "plt.xlabel(\"Palabras\")\n",
    "plt.ylabel(\"Frecuencia (%)\")\n",
    "plt.title(\"Frecuencia de palabras en Descripcion\")\n",
    "plt.ylim(0, 75)\n",
    "\n",
    "plt.bar_label(bars, labels=[f\"{freq}%\" for freq in frequencies_descripcion], padding=3)\n",
    "    \n",
    "plt.show()"
   ]
  },
  {
   "cell_type": "markdown",
   "metadata": {},
   "source": [
    "3. La longitud promedio de un \"Titulo\" es de 94.7, mientras que para una Descripción es de 243.5. Evidenciando que en promedio la descripción de una noticia va a ser 2 veces mas grande que su título.\n",
    "\n",
    "### Descripción Variables\n",
    "\n",
    "En cuanto a las variables de nuestros datos de entreno podemos ver que solo tenemos una variable numérica, esta siendo la variable objetivo donde:\n",
    "1. 0 equivale a que la noticia es falsa y 1 equivale a que la noticia es verdadera. \n",
    "Adicionalmente tenemos variables categóricas Titulo y Descripcion, estas siendo las variables descriptivas donde:\n",
    "2. Se tiene un conjunto de palabras en una cadena de texto.\n",
    "\n",
    "### Valores atípicos  \n",
    "\n",
    "Uno de los valores atípicos que detectamos en nuestros datos fue el uso de links o palabras como \\*NUMBER\\* y \\*URL\\* para describir valores de campos que no pudieron ser obtenidos.\n",
    "\n",
    "A continuación vemos cuantos hay de cada uno:"
   ]
  },
  {
   "cell_type": "code",
   "execution_count": 81,
   "metadata": {},
   "outputs": [
    {
     "name": "stdout",
     "output_type": "stream",
     "text": [
      "Número de filas con '*NUMBER*': 164\n",
      "Número de filas con '*URL*': 5\n",
      "Número de filas con 'http': 3\n",
      "Total de filas con valores atípicos: 172\n"
     ]
    }
   ],
   "source": [
    "mask_number = news_df[\"Titulo\"].str.contains(r\"\\*NUMBER\\*\", na=False) | news_df[\"Descripcion\"].str.contains(r\"\\*NUMBER\\*\", na=False)\n",
    "num_filas_number = mask_number.sum()\n",
    "\n",
    "mask_url = news_df[\"Titulo\"].str.contains(r\"\\*URL\\*\", na=False) | news_df[\"Descripcion\"].str.contains(r\"\\*URL\\*\", na=False)\n",
    "num_filas_url = mask_url.sum()\n",
    "\n",
    "mask_link = news_df[\"Titulo\"].str.contains(r\"http\", na=False) | news_df[\"Descripcion\"].str.contains(r\"http\", na=False)\n",
    "num_filas_link = mask_link.sum()\n",
    "\n",
    "print(f\"Número de filas con '*NUMBER*': {num_filas_number}\")\n",
    "print(f\"Número de filas con '*URL*': {num_filas_url}\")\n",
    "print(f\"Número de filas con 'http': {num_filas_link}\")\n",
    "print(f\"Total de filas con valores atípicos: {num_filas_number + num_filas_url + num_filas_link}\")\n"
   ]
  },
  {
   "cell_type": "markdown",
   "metadata": {},
   "source": [
    "Dado que estos valores no aportan información de si una noticia es falsa o verdadera, y como podemos observar, hay varias filas que contienen estos valores. Tomamos la decision de que no vamos a tomar en cuenta estas filas para evitar errores en nuestras predicciones finales. "
   ]
  },
  {
   "cell_type": "markdown",
   "metadata": {},
   "source": [
    "## 2.2 Preparacion de datos\n",
    "\n",
    "Para preparar los datos vamos a seguir los pasos de procesamiento de texto tanto para el titúlo asi como las descripciones.\n",
    "\n",
    "### 2.2.0 Pre-procesamiento de los datos\n",
    "\n",
    "Para esta sección vamos a limpiar un poco los datos antes de prepararlos para el modelo\n",
    "\n",
    "1. Vamos a eliminar los duplicados ya que esto no le va a aportar información adicional al modelo."
   ]
  },
  {
   "cell_type": "code",
   "execution_count": 82,
   "metadata": {},
   "outputs": [
    {
     "data": {
      "text/plain": [
       "56618"
      ]
     },
     "execution_count": 82,
     "metadata": {},
     "output_type": "execute_result"
    }
   ],
   "source": [
    "news_df = news_df.drop_duplicates()\n",
    "news_df.shape[0]"
   ]
  },
  {
   "cell_type": "markdown",
   "metadata": {},
   "source": [
    "2. Vamos a seleccionar solo 3 columnas: Label, Titulo y Descripción. Esta decision se tomó ya que la fecha aunque aporta información acerca del dato, no va a aportar información acerca de si la noticia es falsa o no."
   ]
  },
  {
   "cell_type": "code",
   "execution_count": 83,
   "metadata": {},
   "outputs": [],
   "source": [
    "news_df = news_df[[\"Label\", \"Titulo\", \"Descripcion\"]]"
   ]
  },
  {
   "cell_type": "markdown",
   "metadata": {},
   "source": [
    "### 2.2.1 Eliminación de Ruido\n",
    "\n",
    "Para eliminar el ruido vamos a eliminar cualquier instancia de caracter especial ($, @, ..., etc) y/o caracter de separacion (',', '.', ..., etc). Tambien vamos a estandarizar los caracteres para que todos se encuentren en minusculas. Se tomó la desicion de dejar las palabras con acento ya que en el español es una parte importante del significado de lo que se transmite en las palabras.\n"
   ]
  },
  {
   "cell_type": "code",
   "execution_count": 84,
   "metadata": {},
   "outputs": [],
   "source": [
    "def eliminar_ruido(words):\n",
    "    new_words = []\n",
    "    stop_words_set = set(stopwords.words('spanish'))\n",
    "    for word in words:\n",
    "        if word is not None:\n",
    "            new_word = word.lower()\n",
    "            if new_word not in stop_words_set: \n",
    "                new_word = re.sub(r'[^\\w\\s]', '', new_word)\n",
    "                if new_word != '':\n",
    "                    new_words.append(new_word)\n",
    "    return new_words\n",
    "\n",
    "def preprocessing(words):\n",
    "    words = eliminar_ruido(words)\n",
    "    return words"
   ]
  },
  {
   "cell_type": "markdown",
   "metadata": {},
   "source": [
    "### 2.2.2 Tokenización \n",
    "\n",
    "Se va a tokenizar cada palabra y se va a guardar en una lista para trabajar así de ahora en adelante"
   ]
  },
  {
   "cell_type": "code",
   "execution_count": 85,
   "metadata": {},
   "outputs": [
    {
     "data": {
      "text/html": [
       "<div>\n",
       "<style scoped>\n",
       "    .dataframe tbody tr th:only-of-type {\n",
       "        vertical-align: middle;\n",
       "    }\n",
       "\n",
       "    .dataframe tbody tr th {\n",
       "        vertical-align: top;\n",
       "    }\n",
       "\n",
       "    .dataframe thead th {\n",
       "        text-align: right;\n",
       "    }\n",
       "</style>\n",
       "<table border=\"1\" class=\"dataframe\">\n",
       "  <thead>\n",
       "    <tr style=\"text-align: right;\">\n",
       "      <th></th>\n",
       "      <th>Label</th>\n",
       "      <th>Titulo</th>\n",
       "      <th>Descripcion</th>\n",
       "      <th>TituloTok</th>\n",
       "      <th>DescripTok</th>\n",
       "    </tr>\n",
       "  </thead>\n",
       "  <tbody>\n",
       "    <tr>\n",
       "      <th>0</th>\n",
       "      <td>1</td>\n",
       "      <td>'The Guardian' va con Sánchez: 'Europa necesit...</td>\n",
       "      <td>El diario británico publicó este pasado jueves...</td>\n",
       "      <td>['The, Guardian, ', va, con, Sánchez, :, 'Euro...</td>\n",
       "      <td>[El, diario, británico, publicó, este, pasado,...</td>\n",
       "    </tr>\n",
       "    <tr>\n",
       "      <th>1</th>\n",
       "      <td>0</td>\n",
       "      <td>REVELAN QUE EL GOBIERNO NEGOCIO LA LIBERACIÓN ...</td>\n",
       "      <td>REVELAN QUE EL GOBIERNO NEGOCIO LA LIBERACIÓN ...</td>\n",
       "      <td>[REVELAN, QUE, EL, GOBIERNO, NEGOCIO, LA, LIBE...</td>\n",
       "      <td>[REVELAN, QUE, EL, GOBIERNO, NEGOCIO, LA, LIBE...</td>\n",
       "    </tr>\n",
       "    <tr>\n",
       "      <th>2</th>\n",
       "      <td>1</td>\n",
       "      <td>El 'Ahora o nunca' de Joan Fuster sobre el est...</td>\n",
       "      <td>El valencianismo convoca en Castelló su fiesta...</td>\n",
       "      <td>[El, 'Ahora, o, nunca, ', de, Joan, Fuster, so...</td>\n",
       "      <td>[El, valencianismo, convoca, en, Castelló, su,...</td>\n",
       "    </tr>\n",
       "    <tr>\n",
       "      <th>3</th>\n",
       "      <td>1</td>\n",
       "      <td>Iglesias alienta a Yolanda Díaz, ERC y EH Bild...</td>\n",
       "      <td>En política, igual que hay que negociar con lo...</td>\n",
       "      <td>[Iglesias, alienta, a, Yolanda, Díaz, ,, ERC, ...</td>\n",
       "      <td>[En, política, ,, igual, que, hay, que, negoci...</td>\n",
       "    </tr>\n",
       "    <tr>\n",
       "      <th>4</th>\n",
       "      <td>0</td>\n",
       "      <td>Puigdemont: 'No sería ninguna tragedia una rep...</td>\n",
       "      <td>En una entrevista en El Punt Avui, el líder de...</td>\n",
       "      <td>[Puigdemont, :, 'No, sería, ninguna, tragedia,...</td>\n",
       "      <td>[En, una, entrevista, en, El, Punt, Avui, ,, e...</td>\n",
       "    </tr>\n",
       "  </tbody>\n",
       "</table>\n",
       "</div>"
      ],
      "text/plain": [
       "  Label                                             Titulo  \\\n",
       "0     1  'The Guardian' va con Sánchez: 'Europa necesit...   \n",
       "1     0  REVELAN QUE EL GOBIERNO NEGOCIO LA LIBERACIÓN ...   \n",
       "2     1  El 'Ahora o nunca' de Joan Fuster sobre el est...   \n",
       "3     1  Iglesias alienta a Yolanda Díaz, ERC y EH Bild...   \n",
       "4     0  Puigdemont: 'No sería ninguna tragedia una rep...   \n",
       "\n",
       "                                         Descripcion  \\\n",
       "0  El diario británico publicó este pasado jueves...   \n",
       "1  REVELAN QUE EL GOBIERNO NEGOCIO LA LIBERACIÓN ...   \n",
       "2  El valencianismo convoca en Castelló su fiesta...   \n",
       "3  En política, igual que hay que negociar con lo...   \n",
       "4  En una entrevista en El Punt Avui, el líder de...   \n",
       "\n",
       "                                           TituloTok  \\\n",
       "0  ['The, Guardian, ', va, con, Sánchez, :, 'Euro...   \n",
       "1  [REVELAN, QUE, EL, GOBIERNO, NEGOCIO, LA, LIBE...   \n",
       "2  [El, 'Ahora, o, nunca, ', de, Joan, Fuster, so...   \n",
       "3  [Iglesias, alienta, a, Yolanda, Díaz, ,, ERC, ...   \n",
       "4  [Puigdemont, :, 'No, sería, ninguna, tragedia,...   \n",
       "\n",
       "                                          DescripTok  \n",
       "0  [El, diario, británico, publicó, este, pasado,...  \n",
       "1  [REVELAN, QUE, EL, GOBIERNO, NEGOCIO, LA, LIBE...  \n",
       "2  [El, valencianismo, convoca, en, Castelló, su,...  \n",
       "3  [En, política, ,, igual, que, hay, que, negoci...  \n",
       "4  [En, una, entrevista, en, El, Punt, Avui, ,, e...  "
      ]
     },
     "execution_count": 85,
     "metadata": {},
     "output_type": "execute_result"
    }
   ],
   "source": [
    "news_df['TituloTok'] = news_df['Titulo'].apply(word_tokenize)\n",
    "news_df['DescripTok'] = news_df['Descripcion'].apply(word_tokenize)\n",
    "\n",
    "news_df.head()"
   ]
  },
  {
   "cell_type": "code",
   "execution_count": 86,
   "metadata": {},
   "outputs": [
    {
     "data": {
      "text/html": [
       "<div>\n",
       "<style scoped>\n",
       "    .dataframe tbody tr th:only-of-type {\n",
       "        vertical-align: middle;\n",
       "    }\n",
       "\n",
       "    .dataframe tbody tr th {\n",
       "        vertical-align: top;\n",
       "    }\n",
       "\n",
       "    .dataframe thead th {\n",
       "        text-align: right;\n",
       "    }\n",
       "</style>\n",
       "<table border=\"1\" class=\"dataframe\">\n",
       "  <thead>\n",
       "    <tr style=\"text-align: right;\">\n",
       "      <th></th>\n",
       "      <th>Label</th>\n",
       "      <th>Titulo</th>\n",
       "      <th>Descripcion</th>\n",
       "      <th>TituloTok</th>\n",
       "      <th>DescripTok</th>\n",
       "      <th>TituloLimpio</th>\n",
       "      <th>DescripcionLimpio</th>\n",
       "    </tr>\n",
       "  </thead>\n",
       "  <tbody>\n",
       "    <tr>\n",
       "      <th>0</th>\n",
       "      <td>1</td>\n",
       "      <td>'The Guardian' va con Sánchez: 'Europa necesit...</td>\n",
       "      <td>El diario británico publicó este pasado jueves...</td>\n",
       "      <td>['The, Guardian, ', va, con, Sánchez, :, 'Euro...</td>\n",
       "      <td>[El, diario, británico, publicó, este, pasado,...</td>\n",
       "      <td>[the, guardian, va, sánchez, europa, necesita,...</td>\n",
       "      <td>[diario, británico, publicó, pasado, jueves, e...</td>\n",
       "    </tr>\n",
       "    <tr>\n",
       "      <th>1</th>\n",
       "      <td>0</td>\n",
       "      <td>REVELAN QUE EL GOBIERNO NEGOCIO LA LIBERACIÓN ...</td>\n",
       "      <td>REVELAN QUE EL GOBIERNO NEGOCIO LA LIBERACIÓN ...</td>\n",
       "      <td>[REVELAN, QUE, EL, GOBIERNO, NEGOCIO, LA, LIBE...</td>\n",
       "      <td>[REVELAN, QUE, EL, GOBIERNO, NEGOCIO, LA, LIBE...</td>\n",
       "      <td>[revelan, gobierno, negocio, liberación, mirel...</td>\n",
       "      <td>[revelan, gobierno, negocio, liberación, mirel...</td>\n",
       "    </tr>\n",
       "    <tr>\n",
       "      <th>2</th>\n",
       "      <td>1</td>\n",
       "      <td>El 'Ahora o nunca' de Joan Fuster sobre el est...</td>\n",
       "      <td>El valencianismo convoca en Castelló su fiesta...</td>\n",
       "      <td>[El, 'Ahora, o, nunca, ', de, Joan, Fuster, so...</td>\n",
       "      <td>[El, valencianismo, convoca, en, Castelló, su,...</td>\n",
       "      <td>[ahora, nunca, joan, fuster, estatuto, valenci...</td>\n",
       "      <td>[valencianismo, convoca, castelló, fiesta, gra...</td>\n",
       "    </tr>\n",
       "    <tr>\n",
       "      <th>3</th>\n",
       "      <td>1</td>\n",
       "      <td>Iglesias alienta a Yolanda Díaz, ERC y EH Bild...</td>\n",
       "      <td>En política, igual que hay que negociar con lo...</td>\n",
       "      <td>[Iglesias, alienta, a, Yolanda, Díaz, ,, ERC, ...</td>\n",
       "      <td>[En, política, ,, igual, que, hay, que, negoci...</td>\n",
       "      <td>[iglesias, alienta, yolanda, díaz, erc, eh, bi...</td>\n",
       "      <td>[política, igual, negociar, empresarios, negoc...</td>\n",
       "    </tr>\n",
       "    <tr>\n",
       "      <th>4</th>\n",
       "      <td>0</td>\n",
       "      <td>Puigdemont: 'No sería ninguna tragedia una rep...</td>\n",
       "      <td>En una entrevista en El Punt Avui, el líder de...</td>\n",
       "      <td>[Puigdemont, :, 'No, sería, ninguna, tragedia,...</td>\n",
       "      <td>[En, una, entrevista, en, El, Punt, Avui, ,, e...</td>\n",
       "      <td>[puigdemont, no, ninguna, tragedia, repetición...</td>\n",
       "      <td>[entrevista, punt, avui, líder, jxcat, desdram...</td>\n",
       "    </tr>\n",
       "  </tbody>\n",
       "</table>\n",
       "</div>"
      ],
      "text/plain": [
       "  Label                                             Titulo  \\\n",
       "0     1  'The Guardian' va con Sánchez: 'Europa necesit...   \n",
       "1     0  REVELAN QUE EL GOBIERNO NEGOCIO LA LIBERACIÓN ...   \n",
       "2     1  El 'Ahora o nunca' de Joan Fuster sobre el est...   \n",
       "3     1  Iglesias alienta a Yolanda Díaz, ERC y EH Bild...   \n",
       "4     0  Puigdemont: 'No sería ninguna tragedia una rep...   \n",
       "\n",
       "                                         Descripcion  \\\n",
       "0  El diario británico publicó este pasado jueves...   \n",
       "1  REVELAN QUE EL GOBIERNO NEGOCIO LA LIBERACIÓN ...   \n",
       "2  El valencianismo convoca en Castelló su fiesta...   \n",
       "3  En política, igual que hay que negociar con lo...   \n",
       "4  En una entrevista en El Punt Avui, el líder de...   \n",
       "\n",
       "                                           TituloTok  \\\n",
       "0  ['The, Guardian, ', va, con, Sánchez, :, 'Euro...   \n",
       "1  [REVELAN, QUE, EL, GOBIERNO, NEGOCIO, LA, LIBE...   \n",
       "2  [El, 'Ahora, o, nunca, ', de, Joan, Fuster, so...   \n",
       "3  [Iglesias, alienta, a, Yolanda, Díaz, ,, ERC, ...   \n",
       "4  [Puigdemont, :, 'No, sería, ninguna, tragedia,...   \n",
       "\n",
       "                                          DescripTok  \\\n",
       "0  [El, diario, británico, publicó, este, pasado,...   \n",
       "1  [REVELAN, QUE, EL, GOBIERNO, NEGOCIO, LA, LIBE...   \n",
       "2  [El, valencianismo, convoca, en, Castelló, su,...   \n",
       "3  [En, política, ,, igual, que, hay, que, negoci...   \n",
       "4  [En, una, entrevista, en, El, Punt, Avui, ,, e...   \n",
       "\n",
       "                                        TituloLimpio  \\\n",
       "0  [the, guardian, va, sánchez, europa, necesita,...   \n",
       "1  [revelan, gobierno, negocio, liberación, mirel...   \n",
       "2  [ahora, nunca, joan, fuster, estatuto, valenci...   \n",
       "3  [iglesias, alienta, yolanda, díaz, erc, eh, bi...   \n",
       "4  [puigdemont, no, ninguna, tragedia, repetición...   \n",
       "\n",
       "                                   DescripcionLimpio  \n",
       "0  [diario, británico, publicó, pasado, jueves, e...  \n",
       "1  [revelan, gobierno, negocio, liberación, mirel...  \n",
       "2  [valencianismo, convoca, castelló, fiesta, gra...  \n",
       "3  [política, igual, negociar, empresarios, negoc...  \n",
       "4  [entrevista, punt, avui, líder, jxcat, desdram...  "
      ]
     },
     "execution_count": 86,
     "metadata": {},
     "output_type": "execute_result"
    }
   ],
   "source": [
    "#Aplicación de reducción de ruido\n",
    "\n",
    "news_df['TituloLimpio']=news_df['TituloTok'].apply(preprocessing)\n",
    "news_df['DescripcionLimpio']=news_df['DescripTok'].apply(preprocessing)\n",
    "\n",
    "news_df.head()\n"
   ]
  },
  {
   "cell_type": "code",
   "execution_count": 88,
   "metadata": {},
   "outputs": [
    {
     "data": {
      "text/html": [
       "<div>\n",
       "<style scoped>\n",
       "    .dataframe tbody tr th:only-of-type {\n",
       "        vertical-align: middle;\n",
       "    }\n",
       "\n",
       "    .dataframe tbody tr th {\n",
       "        vertical-align: top;\n",
       "    }\n",
       "\n",
       "    .dataframe thead th {\n",
       "        text-align: right;\n",
       "    }\n",
       "</style>\n",
       "<table border=\"1\" class=\"dataframe\">\n",
       "  <thead>\n",
       "    <tr style=\"text-align: right;\">\n",
       "      <th></th>\n",
       "      <th>Label</th>\n",
       "      <th>TituloLimpio</th>\n",
       "      <th>DescripcionLimpio</th>\n",
       "    </tr>\n",
       "  </thead>\n",
       "  <tbody>\n",
       "    <tr>\n",
       "      <th>0</th>\n",
       "      <td>1</td>\n",
       "      <td>[the, guardian, va, sánchez, europa, necesita,...</td>\n",
       "      <td>[diario, británico, publicó, pasado, jueves, e...</td>\n",
       "    </tr>\n",
       "    <tr>\n",
       "      <th>1</th>\n",
       "      <td>0</td>\n",
       "      <td>[revelan, gobierno, negocio, liberación, mirel...</td>\n",
       "      <td>[revelan, gobierno, negocio, liberación, mirel...</td>\n",
       "    </tr>\n",
       "    <tr>\n",
       "      <th>2</th>\n",
       "      <td>1</td>\n",
       "      <td>[ahora, nunca, joan, fuster, estatuto, valenci...</td>\n",
       "      <td>[valencianismo, convoca, castelló, fiesta, gra...</td>\n",
       "    </tr>\n",
       "    <tr>\n",
       "      <th>3</th>\n",
       "      <td>1</td>\n",
       "      <td>[iglesias, alienta, yolanda, díaz, erc, eh, bi...</td>\n",
       "      <td>[política, igual, negociar, empresarios, negoc...</td>\n",
       "    </tr>\n",
       "    <tr>\n",
       "      <th>4</th>\n",
       "      <td>0</td>\n",
       "      <td>[puigdemont, no, ninguna, tragedia, repetición...</td>\n",
       "      <td>[entrevista, punt, avui, líder, jxcat, desdram...</td>\n",
       "    </tr>\n",
       "  </tbody>\n",
       "</table>\n",
       "</div>"
      ],
      "text/plain": [
       "  Label                                       TituloLimpio  \\\n",
       "0     1  [the, guardian, va, sánchez, europa, necesita,...   \n",
       "1     0  [revelan, gobierno, negocio, liberación, mirel...   \n",
       "2     1  [ahora, nunca, joan, fuster, estatuto, valenci...   \n",
       "3     1  [iglesias, alienta, yolanda, díaz, erc, eh, bi...   \n",
       "4     0  [puigdemont, no, ninguna, tragedia, repetición...   \n",
       "\n",
       "                                   DescripcionLimpio  \n",
       "0  [diario, británico, publicó, pasado, jueves, e...  \n",
       "1  [revelan, gobierno, negocio, liberación, mirel...  \n",
       "2  [valencianismo, convoca, castelló, fiesta, gra...  \n",
       "3  [política, igual, negociar, empresarios, negoc...  \n",
       "4  [entrevista, punt, avui, líder, jxcat, desdram...  "
      ]
     },
     "execution_count": 88,
     "metadata": {},
     "output_type": "execute_result"
    }
   ],
   "source": [
    "news_df = news_df[[\"Label\", \"TituloLimpio\", \"DescripcionLimpio\"]]\n",
    "news_df.head()"
   ]
  },
  {
   "cell_type": "markdown",
   "metadata": {},
   "source": [
    "### 2.2.3 Lematización\n",
    "\n",
    "Ahora vamos a lematizar las palabras, o de otra forma vamos a aplanar el lenguaje de las mismas (Corrió -> Correr). Así tambien como devolviendo las oraciones a texto de tipo Str para trabajar con ellas más adelante."
   ]
  },
  {
   "cell_type": "code",
   "execution_count": 89,
   "metadata": {},
   "outputs": [
    {
     "data": {
      "text/html": [
       "<div>\n",
       "<style scoped>\n",
       "    .dataframe tbody tr th:only-of-type {\n",
       "        vertical-align: middle;\n",
       "    }\n",
       "\n",
       "    .dataframe tbody tr th {\n",
       "        vertical-align: top;\n",
       "    }\n",
       "\n",
       "    .dataframe thead th {\n",
       "        text-align: right;\n",
       "    }\n",
       "</style>\n",
       "<table border=\"1\" class=\"dataframe\">\n",
       "  <thead>\n",
       "    <tr style=\"text-align: right;\">\n",
       "      <th></th>\n",
       "      <th>Label</th>\n",
       "      <th>TituloLimpio</th>\n",
       "      <th>DescripcionLimpio</th>\n",
       "      <th>TituloLemm</th>\n",
       "      <th>DescripcionLemm</th>\n",
       "    </tr>\n",
       "  </thead>\n",
       "  <tbody>\n",
       "    <tr>\n",
       "      <th>0</th>\n",
       "      <td>1</td>\n",
       "      <td>[the, guardian, va, sánchez, europa, necesita,...</td>\n",
       "      <td>[diario, británico, publicó, pasado, jueves, e...</td>\n",
       "      <td>the guardian va sánchez europa necesita apuest...</td>\n",
       "      <td>diario británico publicó pasado jueves editori...</td>\n",
       "    </tr>\n",
       "    <tr>\n",
       "      <th>1</th>\n",
       "      <td>0</td>\n",
       "      <td>[revelan, gobierno, negocio, liberación, mirel...</td>\n",
       "      <td>[revelan, gobierno, negocio, liberación, mirel...</td>\n",
       "      <td>revelan gobierno negocio liberación mireles ca...</td>\n",
       "      <td>revelan gobierno negocio liberación mireles ca...</td>\n",
       "    </tr>\n",
       "    <tr>\n",
       "      <th>2</th>\n",
       "      <td>1</td>\n",
       "      <td>[ahora, nunca, joan, fuster, estatuto, valenci...</td>\n",
       "      <td>[valencianismo, convoca, castelló, fiesta, gra...</td>\n",
       "      <td>ahora nunca joan fuster estatuto valenciano cu...</td>\n",
       "      <td>valencianismo convoca castelló fiesta grande c...</td>\n",
       "    </tr>\n",
       "    <tr>\n",
       "      <th>3</th>\n",
       "      <td>1</td>\n",
       "      <td>[iglesias, alienta, yolanda, díaz, erc, eh, bi...</td>\n",
       "      <td>[política, igual, negociar, empresarios, negoc...</td>\n",
       "      <td>iglesias alienta yolanda díaz erc eh bildu neg...</td>\n",
       "      <td>política igual negociar empresarios negociar g...</td>\n",
       "    </tr>\n",
       "    <tr>\n",
       "      <th>4</th>\n",
       "      <td>0</td>\n",
       "      <td>[puigdemont, no, ninguna, tragedia, repetición...</td>\n",
       "      <td>[entrevista, punt, avui, líder, jxcat, desdram...</td>\n",
       "      <td>puigdemont no ninguna tragedia repetición elec...</td>\n",
       "      <td>entrevista punt avui líder jxcat desdramatizad...</td>\n",
       "    </tr>\n",
       "  </tbody>\n",
       "</table>\n",
       "</div>"
      ],
      "text/plain": [
       "  Label                                       TituloLimpio  \\\n",
       "0     1  [the, guardian, va, sánchez, europa, necesita,...   \n",
       "1     0  [revelan, gobierno, negocio, liberación, mirel...   \n",
       "2     1  [ahora, nunca, joan, fuster, estatuto, valenci...   \n",
       "3     1  [iglesias, alienta, yolanda, díaz, erc, eh, bi...   \n",
       "4     0  [puigdemont, no, ninguna, tragedia, repetición...   \n",
       "\n",
       "                                   DescripcionLimpio  \\\n",
       "0  [diario, británico, publicó, pasado, jueves, e...   \n",
       "1  [revelan, gobierno, negocio, liberación, mirel...   \n",
       "2  [valencianismo, convoca, castelló, fiesta, gra...   \n",
       "3  [política, igual, negociar, empresarios, negoc...   \n",
       "4  [entrevista, punt, avui, líder, jxcat, desdram...   \n",
       "\n",
       "                                          TituloLemm  \\\n",
       "0  the guardian va sánchez europa necesita apuest...   \n",
       "1  revelan gobierno negocio liberación mireles ca...   \n",
       "2  ahora nunca joan fuster estatuto valenciano cu...   \n",
       "3  iglesias alienta yolanda díaz erc eh bildu neg...   \n",
       "4  puigdemont no ninguna tragedia repetición elec...   \n",
       "\n",
       "                                     DescripcionLemm  \n",
       "0  diario británico publicó pasado jueves editori...  \n",
       "1  revelan gobierno negocio liberación mireles ca...  \n",
       "2  valencianismo convoca castelló fiesta grande c...  \n",
       "3  política igual negociar empresarios negociar g...  \n",
       "4  entrevista punt avui líder jxcat desdramatizad...  "
      ]
     },
     "execution_count": 89,
     "metadata": {},
     "output_type": "execute_result"
    }
   ],
   "source": [
    "def lemmaWords(words):\n",
    "    \n",
    "    lem = WordNetLemmatizer()\n",
    "    \n",
    "    result = \"\"\n",
    "    for word in words:\n",
    "        result += lem.lemmatize(word, pos='v') + \" \"\n",
    "        \n",
    "    return result\n",
    "\n",
    "news_df['TituloLemm']=news_df['TituloLimpio'].apply(lemmaWords)\n",
    "news_df['DescripcionLemm']=news_df['DescripcionLimpio'].apply(lemmaWords)\n",
    "\n",
    "news_df.head()"
   ]
  },
  {
   "cell_type": "code",
   "execution_count": 90,
   "metadata": {},
   "outputs": [
    {
     "data": {
      "text/html": [
       "<div>\n",
       "<style scoped>\n",
       "    .dataframe tbody tr th:only-of-type {\n",
       "        vertical-align: middle;\n",
       "    }\n",
       "\n",
       "    .dataframe tbody tr th {\n",
       "        vertical-align: top;\n",
       "    }\n",
       "\n",
       "    .dataframe thead th {\n",
       "        text-align: right;\n",
       "    }\n",
       "</style>\n",
       "<table border=\"1\" class=\"dataframe\">\n",
       "  <thead>\n",
       "    <tr style=\"text-align: right;\">\n",
       "      <th></th>\n",
       "      <th>Label</th>\n",
       "      <th>TituloLemm</th>\n",
       "      <th>DescripcionLemm</th>\n",
       "    </tr>\n",
       "  </thead>\n",
       "  <tbody>\n",
       "    <tr>\n",
       "      <th>0</th>\n",
       "      <td>1</td>\n",
       "      <td>the guardian va sánchez europa necesita apuest...</td>\n",
       "      <td>diario británico publicó pasado jueves editori...</td>\n",
       "    </tr>\n",
       "    <tr>\n",
       "      <th>1</th>\n",
       "      <td>0</td>\n",
       "      <td>revelan gobierno negocio liberación mireles ca...</td>\n",
       "      <td>revelan gobierno negocio liberación mireles ca...</td>\n",
       "    </tr>\n",
       "    <tr>\n",
       "      <th>2</th>\n",
       "      <td>1</td>\n",
       "      <td>ahora nunca joan fuster estatuto valenciano cu...</td>\n",
       "      <td>valencianismo convoca castelló fiesta grande c...</td>\n",
       "    </tr>\n",
       "    <tr>\n",
       "      <th>3</th>\n",
       "      <td>1</td>\n",
       "      <td>iglesias alienta yolanda díaz erc eh bildu neg...</td>\n",
       "      <td>política igual negociar empresarios negociar g...</td>\n",
       "    </tr>\n",
       "    <tr>\n",
       "      <th>4</th>\n",
       "      <td>0</td>\n",
       "      <td>puigdemont no ninguna tragedia repetición elec...</td>\n",
       "      <td>entrevista punt avui líder jxcat desdramatizad...</td>\n",
       "    </tr>\n",
       "  </tbody>\n",
       "</table>\n",
       "</div>"
      ],
      "text/plain": [
       "  Label                                         TituloLemm  \\\n",
       "0     1  the guardian va sánchez europa necesita apuest...   \n",
       "1     0  revelan gobierno negocio liberación mireles ca...   \n",
       "2     1  ahora nunca joan fuster estatuto valenciano cu...   \n",
       "3     1  iglesias alienta yolanda díaz erc eh bildu neg...   \n",
       "4     0  puigdemont no ninguna tragedia repetición elec...   \n",
       "\n",
       "                                     DescripcionLemm  \n",
       "0  diario británico publicó pasado jueves editori...  \n",
       "1  revelan gobierno negocio liberación mireles ca...  \n",
       "2  valencianismo convoca castelló fiesta grande c...  \n",
       "3  política igual negociar empresarios negociar g...  \n",
       "4  entrevista punt avui líder jxcat desdramatizad...  "
      ]
     },
     "execution_count": 90,
     "metadata": {},
     "output_type": "execute_result"
    }
   ],
   "source": [
    "news_df = news_df[[\"Label\", \"TituloLemm\", \"DescripcionLemm\"]]\n",
    "news_df.head()"
   ]
  },
  {
   "cell_type": "markdown",
   "metadata": {},
   "source": [
    "### 2.2.4 Vectorización de los datos\n",
    "\n",
    "Vamos a vectorizar cada oracion tanto de los titulos como las descripciones para que puedan ser ingresados en los diferentes algoritmos de predicciones."
   ]
  },
  {
   "cell_type": "code",
   "execution_count": 91,
   "metadata": {},
   "outputs": [],
   "source": [
    "vectorizer = TfidfVectorizer()\n",
    "tit = vectorizer.fit_transform(news_df['TituloLemm'])\n",
    "desc = vectorizer.fit_transform(news_df['DescripcionLemm'])"
   ]
  },
  {
   "cell_type": "markdown",
   "metadata": {},
   "source": [
    "Posteriormente vamos a realizar un stack (Titulo - Descripcion) para que puedan entrar juntos al modelo."
   ]
  },
  {
   "cell_type": "code",
   "execution_count": 92,
   "metadata": {},
   "outputs": [
    {
     "data": {
      "image/png": "[encoded data removed]",
      "text/plain": [
       "<Figure size 600x500 with 2 Axes>"
      ]
     },
     "metadata": {},
     "output_type": "display_data"
    }
   ],
   "source": [
    "X = sp.hstack([tit, desc])\n",
    "Y = news_df[\"Label\"]\n",
    "\n",
    "X_train, X_test, Y_train, Y_test = train_test_split(X, Y, test_size=0.3, random_state=1)\n",
    "\n",
    "neigh = KNeighborsClassifier(n_neighbors=7)\n",
    "neigh = neigh.fit(X_train, Y_train)\n",
    "\n",
    "y_pred = neigh.predict(X_test)\n",
    "\n",
    "cm = confusion_matrix(Y_test, y_pred)\n",
    "\n",
    "plt.figure(figsize=(6, 5))\n",
    "sns.heatmap(cm, annot=True, fmt=\"d\", cmap=\"Blues\", xticklabels=[0, 1, 2], yticklabels=[0, 1, 2])\n",
    "plt.xlabel(\"Predicted Labels\")\n",
    "plt.ylabel(\"True Labels\")\n",
    "plt.title(\"Confusion Matrix\")\n",
    "plt.show()"
   ]
  },
  {
   "cell_type": "code",
   "execution_count": 93,
   "metadata": {},
   "outputs": [
    {
     "name": "stdout",
     "output_type": "stream",
     "text": [
      "              precision    recall  f1-score   support\n",
      "\n",
      "           0       0.75      0.66      0.70      7116\n",
      "           1       0.77      0.84      0.80      9870\n",
      "\n",
      "    accuracy                           0.76     16986\n",
      "   macro avg       0.76      0.75      0.75     16986\n",
      "weighted avg       0.76      0.76      0.76     16986\n",
      "\n"
     ]
    }
   ],
   "source": [
    "from sklearn.metrics import f1_score, precision_score, recall_score, accuracy_score\n",
    "\n",
    "print(classification_report(Y_test, y_pred)) "
   ]
  },
  {
   "cell_type": "code",
   "execution_count": 94,
   "metadata": {},
   "outputs": [
    {
     "name": "stdout",
     "output_type": "stream",
     "text": [
      "              precision    recall  f1-score   support\n",
      "\n",
      "           0       0.92      0.85      0.88      7116\n",
      "           1       0.90      0.95      0.92      9870\n",
      "\n",
      "    accuracy                           0.91     16986\n",
      "   macro avg       0.91      0.90      0.90     16986\n",
      "weighted avg       0.91      0.91      0.91     16986\n",
      "\n"
     ]
    }
   ],
   "source": [
    "# Crear el modelo Random Forest\n",
    "rf = RandomForestClassifier(n_estimators=100, random_state=42)\n",
    "\n",
    "# Entrenar el modelo\n",
    "rf.fit(X_train, Y_train)\n",
    "\n",
    "y_pred = rf.predict(X_test)\n",
    "\n",
    "print(classification_report(Y_test, y_pred)) \n"
   ]
  }
 ],
 "metadata": {
  "kernelspec": {
   "display_name": "Python 3",
   "language": "python",
   "name": "python3"
  },
  "language_info": {
   "codemirror_mode": {
    "name": "ipython",
    "version": 3
   },
   "file_extension": ".py",
   "mimetype": "text/x-python",
   "name": "python",
   "nbconvert_exporter": "python",
   "pygments_lexer": "ipython3",
   "version": "3.11.2"
  }
 },
 "nbformat": 4,
 "nbformat_minor": 2
}
